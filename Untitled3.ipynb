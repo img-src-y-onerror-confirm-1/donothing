{
  "nbformat": 4,
  "nbformat_minor": 0,
  "metadata": {
    "colab": {
      "provenance": [],
      "authorship_tag": "ABX9TyOs50taytd3kwSscKFDQvcR",
      "include_colab_link": true
    },
    "kernelspec": {
      "name": "python3",
      "display_name": "Python 3"
    },
    "language_info": {
      "name": "python"
    }
  },
  "cells": [
    {
      "cell_type": "markdown",
      "metadata": {
        "id": "view-in-github",
        "colab_type": "text"
      },
      "source": [
        "<a href=\"https://colab.research.google.com/github/sasinomalabs/donothing/blob/main/Untitled3.ipynb\" target=\"_parent\"><img src=\"https://colab.research.google.com/assets/colab-badge.svg\" alt=\"Open In Colab\"/></a>"
      ]
    },
    {
      "cell_type": "code",
      "execution_count": 7,
      "metadata": {
        "colab": {
          "base_uri": "https://localhost:8080/"
        },
        "id": "lc99aCrVmUY2",
        "outputId": "05f6bf99-7d3e-4927-c813-c1db0e881667"
      },
      "outputs": [
        {
          "output_type": "stream",
          "name": "stdout",
          "text": [
            "Request successful!\n",
            "Status code: 200\n",
            "Response content: <!DOCTYPE html><html><head><style>\n",
            "          body {\n",
            "            font-family: sans-serif;\n",
            "            margin: 40px;\n",
            "            text-align: center;\n",
            "          }\n",
            "        </style></head><body><p>Unexpected response from GitHub. Please try again.</p><p>Cannot initiate GitHub auth request.</p></body></html>\n"
          ]
        }
      ],
      "source": [
        "# prompt: write python code that send request to https://colab.research.google.com/auth/github\n",
        "\n",
        "import requests\n",
        "\n",
        "def send_request_to_colab_auth():\n",
        "    try:\n",
        "        response = requests.get(\"https://colab.research.google.com/auth/github\")\n",
        "        response.raise_for_status()  # Raise an exception for bad status codes (4xx or 5xx)\n",
        "\n",
        "        print(\"Request successful!\")\n",
        "        print(\"Status code:\", response.status_code)\n",
        "        print(\"Response content:\", response.text)  # Uncomment to print the entire response content\n",
        "\n",
        "        return response\n",
        "    except requests.exceptions.RequestException as e:\n",
        "        print(f\"An error occurred: {e}\")\n",
        "        return None\n",
        "\n",
        "# Example usage:\n",
        "response = send_request_to_colab_auth()\n",
        "# Process the response as needed\n"
      ]
    }
  ]
}